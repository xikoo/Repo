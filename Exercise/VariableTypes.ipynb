{
 "cells": [
  {
   "attachments": {},
   "cell_type": "markdown",
   "metadata": {},
   "source": [
    "# String"
   ]
  },
  {
   "cell_type": "code",
   "execution_count": 3,
   "metadata": {},
   "outputs": [
    {
     "name": "stdout",
     "output_type": "stream",
     "text": [
      "Male\n"
     ]
    },
    {
     "data": {
      "text/plain": [
       "str"
      ]
     },
     "execution_count": 3,
     "metadata": {},
     "output_type": "execute_result"
    }
   ],
   "source": [
    "gender = \"Male\"\n",
    "print(gender)\n",
    "type(gender)"
   ]
  },
  {
   "cell_type": "code",
   "execution_count": 2,
   "metadata": {},
   "outputs": [
    {
     "name": "stdout",
     "output_type": "stream",
     "text": [
      "Male\n"
     ]
    },
    {
     "data": {
      "text/plain": [
       "str"
      ]
     },
     "execution_count": 2,
     "metadata": {},
     "output_type": "execute_result"
    }
   ],
   "source": [
    "gender = 'Male'\n",
    "print(gender)\n",
    "type(gender)"
   ]
  },
  {
   "cell_type": "code",
   "execution_count": 4,
   "metadata": {},
   "outputs": [
    {
     "name": "stdout",
     "output_type": "stream",
     "text": [
      "fathrt's name\n",
      "father\"s name\n"
     ]
    }
   ],
   "source": [
    "print(\"fathrt's name\")\n",
    "print('father\"s name')"
   ]
  },
  {
   "attachments": {},
   "cell_type": "markdown",
   "metadata": {},
   "source": [
    "# Slicing"
   ]
  },
  {
   "cell_type": "code",
   "execution_count": 1,
   "metadata": {},
   "outputs": [
    {
     "data": {
      "text/plain": [
       "'dumhaM natluS'"
      ]
     },
     "execution_count": 1,
     "metadata": {},
     "output_type": "execute_result"
    }
   ],
   "source": [
    "name = \"Sultan Mahmud\"\n",
    "name[3]\n",
    "name[0:5] # returns till (5-1)th position\n",
    "name[0:6] # returns till (6-1)th position\n",
    "name[0:6:2] # skips (2-1) index\n",
    "name[0:6:3] # skips (3-1) index\n",
    "name[-1] # -1 is last index\n",
    "name[-2] # -1 is the index before last index\n",
    "name[-1:-5] # -1 (last index), step size by default 1, -1+1=0, 0+1=1, 1+1=2, the index is running right from -1 instead of going to left\n",
    "name[-1:-7:-1]\n",
    "name[::-1] # reverse string, strting from 0 to end, step count -1, so 0+(-1)=-1, last index, then -1+(-1)=-2, second from last, etc."
   ]
  },
  {
   "cell_type": "code",
   "execution_count": 15,
   "metadata": {},
   "outputs": [
    {
     "data": {
      "text/plain": [
       "['mahmudsultan125', 'gmail.com']"
      ]
     },
     "execution_count": 15,
     "metadata": {},
     "output_type": "execute_result"
    }
   ],
   "source": [
    "# methods\n",
    "name = 'Sultan Mahmud'\n",
    "email = \"mahmudsultan125@gmail.com\"\n",
    "name.lower()\n",
    "name.upper()\n",
    "name.title() #makes the first letter Capital\n",
    "name.capitalize() #makes the very first alphabet capital\n",
    "name.swapcase() #swap uppercases to lower & vice versa\n",
    "email.count('a') #case sensetive\n",
    "email.find('@')\n",
    "email.split('@')"
   ]
  }
 ],
 "metadata": {
  "kernelspec": {
   "display_name": "Python 3",
   "language": "python",
   "name": "python3"
  },
  "language_info": {
   "codemirror_mode": {
    "name": "ipython",
    "version": 3
   },
   "file_extension": ".py",
   "mimetype": "text/x-python",
   "name": "python",
   "nbconvert_exporter": "python",
   "pygments_lexer": "ipython3",
   "version": "3.11.0"
  },
  "orig_nbformat": 4,
  "vscode": {
   "interpreter": {
    "hash": "5238573367df39f7286bb46f9ff5f08f63a01a80960060ce41e3c79b190280fa"
   }
  }
 },
 "nbformat": 4,
 "nbformat_minor": 2
}
