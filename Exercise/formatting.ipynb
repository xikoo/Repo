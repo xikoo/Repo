{
 "cells": [
  {
   "cell_type": "code",
   "execution_count": 1,
   "metadata": {},
   "outputs": [],
   "source": [
    "age = 24\n",
    "height = 172.69\n",
    "name = 'Sultan'"
   ]
  },
  {
   "cell_type": "code",
   "execution_count": 4,
   "metadata": {},
   "outputs": [
    {
     "name": "stdout",
     "output_type": "stream",
     "text": [
      "Name:  Sultan Age:  24 Height:  172.69\n"
     ]
    }
   ],
   "source": [
    "print(\"Name: \", name, \"Age: \", age, \"Height: \", height)\n",
    "#string formatting"
   ]
  },
  {
   "cell_type": "code",
   "execution_count": 6,
   "metadata": {},
   "outputs": [
    {
     "name": "stdout",
     "output_type": "stream",
     "text": [
      "Name: Sultan, Age: 24, Height: 172.69\n"
     ]
    }
   ],
   "source": [
    "print(\"Name: {0}, Age: {1}, Height: {2}\".format(name, age, height))"
   ]
  },
  {
   "cell_type": "code",
   "execution_count": 9,
   "metadata": {},
   "outputs": [
    {
     "name": "stdout",
     "output_type": "stream",
     "text": [
      "Name: Sultan, Age: 24, Height: 172.690000\n",
      "Name: Sultan, Age: 24, Height: 172.69\n"
     ]
    }
   ],
   "source": [
    "print(\"Name: %s, Age: %d, Height: %f\" %(name, age, height))\n",
    "# %s=string, %d=int, %f=float\n",
    "print(\"Name: %s, Age: %d, Height: %.2f\" %(name, age, height))\n",
    "# %.2f will return 2 digits after decimal, %.3f will return 3 digits after decimal"
   ]
  },
  {
   "cell_type": "code",
   "execution_count": 12,
   "metadata": {},
   "outputs": [
    {
     "name": "stdout",
     "output_type": "stream",
     "text": [
      "Name: Sultan, Age: 24, Height: 172.69\n",
      "Name: Sultan, Age: 24, Height:  172.690\n"
     ]
    }
   ],
   "source": [
    "print(f\"Name: {name}, Age: {age}, Height: {height}\")\n",
    "print(f\"Name: {name}, Age: {age}, Height: {height: .3f}\")\n",
    "# we can use .2f, .3f here too"
   ]
  }
 ],
 "metadata": {
  "kernelspec": {
   "display_name": "Python 3",
   "language": "python",
   "name": "python3"
  },
  "language_info": {
   "codemirror_mode": {
    "name": "ipython",
    "version": 3
   },
   "file_extension": ".py",
   "mimetype": "text/x-python",
   "name": "python",
   "nbconvert_exporter": "python",
   "pygments_lexer": "ipython3",
   "version": "3.11.0"
  },
  "orig_nbformat": 4,
  "vscode": {
   "interpreter": {
    "hash": "5238573367df39f7286bb46f9ff5f08f63a01a80960060ce41e3c79b190280fa"
   }
  }
 },
 "nbformat": 4,
 "nbformat_minor": 2
}
