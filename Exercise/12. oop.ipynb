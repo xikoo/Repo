{
 "cells": [
  {
   "attachments": {},
   "cell_type": "markdown",
   "metadata": {},
   "source": [
    "# Object Oriented Programming\n",
    "- Encapsulation\n",
    "- Abstraction\n",
    "- Inheritance\n",
    "- polymorphism"
   ]
  },
  {
   "attachments": {},
   "cell_type": "markdown",
   "metadata": {},
   "source": [
    "# Encapsulation & Abstruction"
   ]
  },
  {
   "cell_type": "code",
   "execution_count": 1,
   "metadata": {},
   "outputs": [],
   "source": [
    "class product:\n",
    "    # class variables or attributes (class is an unit in which there is data & data related function; this data & data relation fubnction binding is called class)\n",
    "    platform = 'Amazon'\n",
    "\n",
    "    # Constructor (initialization, it's a function, but the name __init__ made it a constructor)\n",
    "    def __init__(self, title: str, price: float) -> None:\n",
    "        pass\n",
    "\n",
    "    # Methods or Behaviors\n",
    "    def getDiscount(self) -> float:\n",
    "        pass # pass means 'do nothing'"
   ]
  },
  {
   "cell_type": "code",
   "execution_count": 24,
   "metadata": {},
   "outputs": [],
   "source": [
    "class product:\n",
    "    platform = 'Amazon'\n",
    "\n",
    "    def __init__(self, title: str, price: float) -> None:\n",
    "        # Instance Variables\n",
    "        self.title = title\n",
    "        self.price = price\n",
    "        self.discount = 10\n",
    "\n",
    "    def getDiscount(self) -> float:\n",
    "        return self.price * 0.9"
   ]
  },
  {
   "cell_type": "code",
   "execution_count": 27,
   "metadata": {},
   "outputs": [],
   "source": [
    "# Object Creation\n",
    "p1 = product('iPhone 11', 120000.00)\n",
    "p2 = product('Nokia X', 90000)"
   ]
  },
  {
   "cell_type": "code",
   "execution_count": 20,
   "metadata": {},
   "outputs": [
    {
     "data": {
      "text/plain": [
       "'iPhone 11'"
      ]
     },
     "execution_count": 20,
     "metadata": {},
     "output_type": "execute_result"
    }
   ],
   "source": [
    "p1.title"
   ]
  },
  {
   "cell_type": "code",
   "execution_count": 14,
   "metadata": {},
   "outputs": [
    {
     "data": {
      "text/plain": [
       "120000.0"
      ]
     },
     "execution_count": 14,
     "metadata": {},
     "output_type": "execute_result"
    }
   ],
   "source": [
    "p1.price"
   ]
  },
  {
   "cell_type": "code",
   "execution_count": 15,
   "metadata": {},
   "outputs": [
    {
     "data": {
      "text/plain": [
       "10"
      ]
     },
     "execution_count": 15,
     "metadata": {},
     "output_type": "execute_result"
    }
   ],
   "source": [
    "p1.discount"
   ]
  },
  {
   "cell_type": "code",
   "execution_count": 29,
   "metadata": {},
   "outputs": [],
   "source": [
    "# Abstruction hides the complex codes, class & other things from us using only one line to get data"
   ]
  },
  {
   "cell_type": "code",
   "execution_count": 21,
   "metadata": {},
   "outputs": [
    {
     "data": {
      "text/plain": [
       "108000.0"
      ]
     },
     "execution_count": 21,
     "metadata": {},
     "output_type": "execute_result"
    }
   ],
   "source": [
    "p1.getDiscount()"
   ]
  },
  {
   "cell_type": "code",
   "execution_count": 28,
   "metadata": {},
   "outputs": [
    {
     "data": {
      "text/plain": [
       "81000.0"
      ]
     },
     "execution_count": 28,
     "metadata": {},
     "output_type": "execute_result"
    }
   ],
   "source": [
    "p2.getDiscount()"
   ]
  },
  {
   "attachments": {},
   "cell_type": "markdown",
   "metadata": {},
   "source": [
    "# --"
   ]
  },
  {
   "cell_type": "code",
   "execution_count": 119,
   "metadata": {},
   "outputs": [],
   "source": [
    "class Product:\n",
    "    platform = 'Amazon'\n",
    "\n",
    "    def __init__(self, title: str, price: float) -> None:\n",
    "        self.title = title\n",
    "        self.price = price\n",
    "        #self.code1 = 4545\n",
    "        self.__code = 5454 # private\n",
    "\n",
    "    def getDiscount(self) -> float:\n",
    "        return self.price * 0.9\n",
    "    \n",
    "    def getCode(self):\n",
    "        return self.__code\n",
    "\n",
    "    # speial or magic method\n",
    "    def __repr__(self) -> str:\n",
    "        return f\"product(Name={self.title})\""
   ]
  },
  {
   "cell_type": "code",
   "execution_count": 116,
   "metadata": {},
   "outputs": [],
   "source": [
    "p1 = Product('iPhone', 120000)\n",
    "p2 = Product('Nokia X', 90000)"
   ]
  },
  {
   "cell_type": "code",
   "execution_count": 117,
   "metadata": {},
   "outputs": [
    {
     "data": {
      "text/plain": [
       "product(Name=iPhone)"
      ]
     },
     "execution_count": 117,
     "metadata": {},
     "output_type": "execute_result"
    }
   ],
   "source": [
    "p1"
   ]
  },
  {
   "cell_type": "code",
   "execution_count": 118,
   "metadata": {},
   "outputs": [
    {
     "data": {
      "text/plain": [
       "product(Name=Nokia X)"
      ]
     },
     "execution_count": 118,
     "metadata": {},
     "output_type": "execute_result"
    }
   ],
   "source": [
    "p2"
   ]
  },
  {
   "cell_type": "code",
   "execution_count": 59,
   "metadata": {},
   "outputs": [
    {
     "data": {
      "text/plain": [
       "'iPhone 11'"
      ]
     },
     "execution_count": 59,
     "metadata": {},
     "output_type": "execute_result"
    }
   ],
   "source": [
    "p1.title = 'iPhone 11'\n",
    "p1.title # can be updated data which are accessible"
   ]
  },
  {
   "cell_type": "code",
   "execution_count": 60,
   "metadata": {},
   "outputs": [
    {
     "ename": "AttributeError",
     "evalue": "'Product' object has no attribute 'code1'",
     "output_type": "error",
     "traceback": [
      "\u001b[1;31m---------------------------------------------------------------------------\u001b[0m",
      "\u001b[1;31mAttributeError\u001b[0m                            Traceback (most recent call last)",
      "Cell \u001b[1;32mIn[60], line 1\u001b[0m\n\u001b[1;32m----> 1\u001b[0m p1\u001b[39m.\u001b[39;49mcode1\n",
      "\u001b[1;31mAttributeError\u001b[0m: 'Product' object has no attribute 'code1'"
     ]
    }
   ],
   "source": [
    "p1.code1"
   ]
  },
  {
   "cell_type": "code",
   "execution_count": 78,
   "metadata": {},
   "outputs": [
    {
     "ename": "AttributeError",
     "evalue": "'Product' object has no attribute '__code'",
     "output_type": "error",
     "traceback": [
      "\u001b[1;31m---------------------------------------------------------------------------\u001b[0m",
      "\u001b[1;31mAttributeError\u001b[0m                            Traceback (most recent call last)",
      "Cell \u001b[1;32mIn[78], line 2\u001b[0m\n\u001b[0;32m      1\u001b[0m \u001b[39m# if double underscore is provided before variable, it becomes private, means this can be accessible within the class, but cannot be accessible from out of the class\u001b[39;00m\n\u001b[1;32m----> 2\u001b[0m p1\u001b[39m.\u001b[39;49m__code\n",
      "\u001b[1;31mAttributeError\u001b[0m: 'Product' object has no attribute '__code'"
     ]
    }
   ],
   "source": [
    "# if double underscore is provided before variable, it becomes private, means this can be accessible within the class, but cannot be accessible from out of the class\n",
    "p1.__code"
   ]
  },
  {
   "cell_type": "code",
   "execution_count": 62,
   "metadata": {},
   "outputs": [
    {
     "data": {
      "text/plain": [
       "5454"
      ]
     },
     "execution_count": 62,
     "metadata": {},
     "output_type": "execute_result"
    }
   ],
   "source": [
    "# although we can access to the private constructor through function\n",
    "# a new function is added under Method/Function\n",
    "p1.getCode()"
   ]
  },
  {
   "cell_type": "code",
   "execution_count": 74,
   "metadata": {},
   "outputs": [
    {
     "data": {
      "text/plain": [
       "'4646'"
      ]
     },
     "execution_count": 74,
     "metadata": {},
     "output_type": "execute_result"
    }
   ],
   "source": [
    "p1.__code = '4646'\n",
    "p1.__code"
   ]
  },
  {
   "cell_type": "code",
   "execution_count": 120,
   "metadata": {},
   "outputs": [],
   "source": [
    "class Product:\n",
    "    platform = 'Amazon'\n",
    "\n",
    "    def __init__(self, title: str, price: float) -> None:\n",
    "        self.title = title\n",
    "        self.price = price\n",
    "        self.__code = 5454 # private\n",
    "\n",
    "    # getter setter delter\n",
    "    @property\n",
    "    def code(self):\n",
    "        print('Getter is called')\n",
    "        return self.__code\n",
    "\n",
    "    @code.setter\n",
    "    def code(self, val):\n",
    "        print('Setter is called')\n",
    "        self.__code = val\n",
    "\n",
    "    @code.deleter\n",
    "    def code(self):\n",
    "        print('Deleter is called')\n",
    "        del self.__code\n",
    "    \n",
    "    # speial or magic method\n",
    "    def __repr__(self) -> str:\n",
    "        return f\"product(Name={self.title})\""
   ]
  },
  {
   "cell_type": "code",
   "execution_count": 103,
   "metadata": {},
   "outputs": [],
   "source": [
    "p1 = Product('iPhone', 120000)\n",
    "p2 = Product('Nokia X', 90000)"
   ]
  },
  {
   "cell_type": "code",
   "execution_count": 90,
   "metadata": {},
   "outputs": [
    {
     "name": "stdout",
     "output_type": "stream",
     "text": [
      "Getter is called\n"
     ]
    },
    {
     "data": {
      "text/plain": [
       "5454"
      ]
     },
     "execution_count": 90,
     "metadata": {},
     "output_type": "execute_result"
    }
   ],
   "source": [
    "p1.code"
   ]
  },
  {
   "cell_type": "code",
   "execution_count": 94,
   "metadata": {},
   "outputs": [
    {
     "name": "stdout",
     "output_type": "stream",
     "text": [
      "Setter is called\n"
     ]
    }
   ],
   "source": [
    "p1.code = 4444 # we cannot set code directly, so we did it through method\n"
   ]
  },
  {
   "cell_type": "code",
   "execution_count": 96,
   "metadata": {},
   "outputs": [
    {
     "name": "stdout",
     "output_type": "stream",
     "text": [
      "Getter is called\n"
     ]
    },
    {
     "data": {
      "text/plain": [
       "4444"
      ]
     },
     "execution_count": 96,
     "metadata": {},
     "output_type": "execute_result"
    }
   ],
   "source": [
    "p1.code"
   ]
  },
  {
   "cell_type": "code",
   "execution_count": 97,
   "metadata": {},
   "outputs": [
    {
     "ename": "AttributeError",
     "evalue": "property 'code' of 'Product' object has no deleter",
     "output_type": "error",
     "traceback": [
      "\u001b[1;31m---------------------------------------------------------------------------\u001b[0m",
      "\u001b[1;31mAttributeError\u001b[0m                            Traceback (most recent call last)",
      "Cell \u001b[1;32mIn[97], line 1\u001b[0m\n\u001b[1;32m----> 1\u001b[0m \u001b[39mdel\u001b[39;00m p1\u001b[39m.\u001b[39;49mcode\n",
      "\u001b[1;31mAttributeError\u001b[0m: property 'code' of 'Product' object has no deleter"
     ]
    }
   ],
   "source": [
    "del p1.code"
   ]
  },
  {
   "cell_type": "code",
   "execution_count": 104,
   "metadata": {},
   "outputs": [
    {
     "name": "stdout",
     "output_type": "stream",
     "text": [
      "Deleter is called\n"
     ]
    }
   ],
   "source": [
    "del p1.code"
   ]
  },
  {
   "cell_type": "code",
   "execution_count": 105,
   "metadata": {},
   "outputs": [
    {
     "name": "stdout",
     "output_type": "stream",
     "text": [
      "Getter is called\n"
     ]
    },
    {
     "ename": "AttributeError",
     "evalue": "'Product' object has no attribute '_Product__code'",
     "output_type": "error",
     "traceback": [
      "\u001b[1;31m---------------------------------------------------------------------------\u001b[0m",
      "\u001b[1;31mAttributeError\u001b[0m                            Traceback (most recent call last)",
      "Cell \u001b[1;32mIn[105], line 1\u001b[0m\n\u001b[1;32m----> 1\u001b[0m p1\u001b[39m.\u001b[39;49mcode\n",
      "Cell \u001b[1;32mIn[102], line 13\u001b[0m, in \u001b[0;36mProduct.code\u001b[1;34m(self)\u001b[0m\n\u001b[0;32m     10\u001b[0m \u001b[39m@property\u001b[39m\n\u001b[0;32m     11\u001b[0m \u001b[39mdef\u001b[39;00m \u001b[39mcode\u001b[39m(\u001b[39mself\u001b[39m):\n\u001b[0;32m     12\u001b[0m     \u001b[39mprint\u001b[39m(\u001b[39m'\u001b[39m\u001b[39mGetter is called\u001b[39m\u001b[39m'\u001b[39m)\n\u001b[1;32m---> 13\u001b[0m     \u001b[39mreturn\u001b[39;00m \u001b[39mself\u001b[39;49m\u001b[39m.\u001b[39;49m__code\n",
      "\u001b[1;31mAttributeError\u001b[0m: 'Product' object has no attribute '_Product__code'"
     ]
    }
   ],
   "source": [
    "p1.code"
   ]
  },
  {
   "attachments": {},
   "cell_type": "markdown",
   "metadata": {},
   "source": [
    "# Special or Magic Methods"
   ]
  },
  {
   "cell_type": "code",
   "execution_count": 149,
   "metadata": {},
   "outputs": [],
   "source": [
    "class Product:\n",
    "    platform = 'Amazon'\n",
    "\n",
    "    def __init__(self, title: str, price: float) -> None:\n",
    "        self.title = title\n",
    "        self.price = price\n",
    "        self.__code = 5454 # private\n",
    "\n",
    "    # speial or magic method\n",
    "    def __repr__(self) -> str:\n",
    "        return f\"product(Name={self.title})\"\n",
    "\n",
    "    def __gt__(self, other) -> bool:\n",
    "        return self.price > other.price\n",
    "    def __lt__(self, other) -> bool:\n",
    "        return self.price < other.price\n",
    "    def __ge__(self, other) -> bool:\n",
    "        return self.price >= other.price\n",
    "    def __le__(self, other) -> bool:\n",
    "        return self.price <= other.price\n",
    "    def __add__(self, other) -> bool:\n",
    "        return self.price + other.price"
   ]
  },
  {
   "cell_type": "code",
   "execution_count": 150,
   "metadata": {},
   "outputs": [],
   "source": [
    "p1 = Product('iPhone', 120000)\n",
    "p2 = Product('Nokia X', 90000)"
   ]
  },
  {
   "cell_type": "code",
   "execution_count": 135,
   "metadata": {},
   "outputs": [
    {
     "data": {
      "text/plain": [
       "True"
      ]
     },
     "execution_count": 135,
     "metadata": {},
     "output_type": "execute_result"
    }
   ],
   "source": [
    "p1 > p2"
   ]
  },
  {
   "cell_type": "code",
   "execution_count": 136,
   "metadata": {},
   "outputs": [
    {
     "data": {
      "text/plain": [
       "False"
      ]
     },
     "execution_count": 136,
     "metadata": {},
     "output_type": "execute_result"
    }
   ],
   "source": [
    "p1 < p2"
   ]
  },
  {
   "cell_type": "code",
   "execution_count": 146,
   "metadata": {},
   "outputs": [
    {
     "data": {
      "text/plain": [
       "False"
      ]
     },
     "execution_count": 146,
     "metadata": {},
     "output_type": "execute_result"
    }
   ],
   "source": [
    "p1 <= p2"
   ]
  },
  {
   "cell_type": "code",
   "execution_count": 147,
   "metadata": {},
   "outputs": [
    {
     "data": {
      "text/plain": [
       "True"
      ]
     },
     "execution_count": 147,
     "metadata": {},
     "output_type": "execute_result"
    }
   ],
   "source": [
    "p1 >= p2"
   ]
  },
  {
   "cell_type": "code",
   "execution_count": 151,
   "metadata": {},
   "outputs": [
    {
     "data": {
      "text/plain": [
       "210000"
      ]
     },
     "execution_count": 151,
     "metadata": {},
     "output_type": "execute_result"
    }
   ],
   "source": [
    "p1 + p2"
   ]
  }
 ],
 "metadata": {
  "kernelspec": {
   "display_name": "Python 3",
   "language": "python",
   "name": "python3"
  },
  "language_info": {
   "codemirror_mode": {
    "name": "ipython",
    "version": 3
   },
   "file_extension": ".py",
   "mimetype": "text/x-python",
   "name": "python",
   "nbconvert_exporter": "python",
   "pygments_lexer": "ipython3",
   "version": "3.11.0"
  },
  "orig_nbformat": 4,
  "vscode": {
   "interpreter": {
    "hash": "5238573367df39f7286bb46f9ff5f08f63a01a80960060ce41e3c79b190280fa"
   }
  }
 },
 "nbformat": 4,
 "nbformat_minor": 2
}
