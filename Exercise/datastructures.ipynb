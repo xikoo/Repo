{
 "cells": [
  {
   "attachments": {},
   "cell_type": "markdown",
   "metadata": {},
   "source": [
    "# List"
   ]
  },
  {
   "cell_type": "code",
   "execution_count": 1,
   "metadata": {},
   "outputs": [
    {
     "data": {
      "text/plain": [
       "list"
      ]
     },
     "execution_count": 1,
     "metadata": {},
     "output_type": "execute_result"
    }
   ],
   "source": [
    "data = [21, 26, 3, 4, 5, 6, 78, 8, 50, True, False]\n",
    "type(data)"
   ]
  },
  {
   "cell_type": "code",
   "execution_count": 2,
   "metadata": {},
   "outputs": [
    {
     "data": {
      "text/plain": [
       "[8, 78, 6, 5, 4]"
      ]
     },
     "execution_count": 2,
     "metadata": {},
     "output_type": "execute_result"
    }
   ],
   "source": [
    "# access\n",
    "data[6]\n",
    "data[-6]\n",
    "data[::2]\n",
    "data[2:7]\n",
    "data[-4:-9:-1]"
   ]
  },
  {
   "cell_type": "code",
   "execution_count": 3,
   "metadata": {},
   "outputs": [
    {
     "data": {
      "text/plain": [
       "[21, 26, 3, 4, 5, 6, 79, 8, 50, 1, 0]"
      ]
     },
     "execution_count": 3,
     "metadata": {},
     "output_type": "execute_result"
    }
   ],
   "source": [
    "# update\n",
    "data[6] = 79\n",
    "data[-2::] = 1, 0\n",
    "data"
   ]
  },
  {
   "cell_type": "code",
   "execution_count": 4,
   "metadata": {},
   "outputs": [
    {
     "name": "stdout",
     "output_type": "stream",
     "text": [
      "[1, 7, 25, 5, 2, 6, 78, True, False, 54, 77, 88]\n",
      "[88, 78, 77, 54, 25, 7, 6, 5, 2, 1, True, False]\n"
     ]
    }
   ],
   "source": [
    "# methods\n",
    "data = [1, 21, 25, 5, 2, 6, 78, 4, True, False]\n",
    "data.append(54)\n",
    "data.insert(2, 7)\n",
    "data.extend([77, 88])\n",
    "data.index(78)\n",
    "data.count(78)\n",
    "data.pop(1)\n",
    "data.remove(4)\n",
    "print(data)\n",
    "data.sort(reverse=True)\n",
    "sorted(data, reverse=True)\n",
    "print(data)\n",
    "data.reverse()\n",
    "data.clear()\n",
    "del data"
   ]
  },
  {
   "attachments": {},
   "cell_type": "markdown",
   "metadata": {},
   "source": [
    "# Shallow Copy & Deep Copy"
   ]
  },
  {
   "cell_type": "code",
   "execution_count": 5,
   "metadata": {},
   "outputs": [],
   "source": [
    "d = [1, 2, 3, 4]"
   ]
  },
  {
   "cell_type": "code",
   "execution_count": 6,
   "metadata": {},
   "outputs": [
    {
     "name": "stdout",
     "output_type": "stream",
     "text": [
      "[1, 2, 3, 4, 99]\n",
      "[1, 2, 3, 4, 99]\n"
     ]
    }
   ],
   "source": [
    "# deep copy\n",
    "copy1 = d\n",
    "copy1.append(99)\n",
    "print(d)\n",
    "print(copy1)"
   ]
  },
  {
   "cell_type": "code",
   "execution_count": 7,
   "metadata": {},
   "outputs": [
    {
     "name": "stdout",
     "output_type": "stream",
     "text": [
      "[1, 2, 3, 4, 99]\n",
      "[1, 2, 3, 4, 99, 100]\n"
     ]
    }
   ],
   "source": [
    "# shallow copy\n",
    "copy2 = d.copy()\n",
    "copy2.append(100)\n",
    "print(d)\n",
    "print(copy2)"
   ]
  },
  {
   "attachments": {},
   "cell_type": "markdown",
   "metadata": {},
   "source": [
    "# Tuple"
   ]
  },
  {
   "cell_type": "code",
   "execution_count": 8,
   "metadata": {},
   "outputs": [
    {
     "data": {
      "text/plain": [
       "tuple"
      ]
     },
     "execution_count": 8,
     "metadata": {},
     "output_type": "execute_result"
    }
   ],
   "source": [
    "t = (1, 2, 3, 4)\n",
    "type(t)"
   ]
  },
  {
   "cell_type": "code",
   "execution_count": 9,
   "metadata": {},
   "outputs": [
    {
     "data": {
      "text/plain": [
       "(1, 2)"
      ]
     },
     "execution_count": 9,
     "metadata": {},
     "output_type": "execute_result"
    }
   ],
   "source": [
    "t[1:]\n",
    "t[0:2]"
   ]
  },
  {
   "cell_type": "code",
   "execution_count": 10,
   "metadata": {},
   "outputs": [
    {
     "ename": "TypeError",
     "evalue": "'tuple' object does not support item assignment",
     "output_type": "error",
     "traceback": [
      "\u001b[1;31m---------------------------------------------------------------------------\u001b[0m",
      "\u001b[1;31mTypeError\u001b[0m                                 Traceback (most recent call last)",
      "Cell \u001b[1;32mIn[10], line 1\u001b[0m\n\u001b[1;32m----> 1\u001b[0m t[\u001b[39m1\u001b[39;49m]\u001b[39m=\u001b[39m\u001b[39m0\u001b[39m\n",
      "\u001b[1;31mTypeError\u001b[0m: 'tuple' object does not support item assignment"
     ]
    }
   ],
   "source": [
    "t[1]=0"
   ]
  },
  {
   "attachments": {},
   "cell_type": "markdown",
   "metadata": {},
   "source": [
    "# Set{}"
   ]
  },
  {
   "cell_type": "code",
   "execution_count": null,
   "metadata": {},
   "outputs": [
    {
     "data": {
      "text/plain": [
       "2"
      ]
     },
     "execution_count": 25,
     "metadata": {},
     "output_type": "execute_result"
    }
   ],
   "source": [
    "s = {1,2,3,3,4,5,6,6}\n",
    "s.add(1.5)\n",
    "s.remove(4) # if the value is not available it will return error\n",
    "s.discard(9) # same as remove but even if the value is not available, it wont't return error but continue\n",
    "s.pop()\n",
    "s.pop()"
   ]
  },
  {
   "cell_type": "code",
   "execution_count": null,
   "metadata": {},
   "outputs": [
    {
     "ename": "TypeError",
     "evalue": "'set' object is not subscriptable",
     "output_type": "error",
     "traceback": [
      "\u001b[1;31m---------------------------------------------------------------------------\u001b[0m",
      "\u001b[1;31mTypeError\u001b[0m                                 Traceback (most recent call last)",
      "Cell \u001b[1;32mIn[6], line 11\u001b[0m\n\u001b[0;32m      9\u001b[0m s1\u001b[39m.\u001b[39missuperset(s2)\n\u001b[0;32m     10\u001b[0m s1\u001b[39m.\u001b[39misdisjoint(s2)\n\u001b[1;32m---> 11\u001b[0m s1[\u001b[39m0\u001b[39;49m]\n",
      "\u001b[1;31mTypeError\u001b[0m: 'set' object is not subscriptable"
     ]
    }
   ],
   "source": [
    "s1 = {2,3,5,4,6,8,9}\n",
    "s2 = {4,5,8,9}\n",
    "s1.union(s2)\n",
    "s1.intersection(s2)\n",
    "s1.difference(s2)\n",
    "s2.difference(s1)\n",
    "s1.issubset(s2)\n",
    "s2.issubset(s1)\n",
    "s1.issuperset(s2)\n",
    "s1.isdisjoint(s2)\n",
    "s1[0]"
   ]
  },
  {
   "attachments": {},
   "cell_type": "markdown",
   "metadata": {},
   "source": [
    "# Dictionary{}"
   ]
  },
  {
   "cell_type": "code",
   "execution_count": null,
   "metadata": {},
   "outputs": [
    {
     "data": {
      "text/plain": [
       "dict"
      ]
     },
     "execution_count": 7,
     "metadata": {},
     "output_type": "execute_result"
    }
   ],
   "source": [
    "data1 = {'roll':23, 'name':\"Sultan Mahmud\", 'age':31}\n",
    "type(data1)"
   ]
  },
  {
   "cell_type": "code",
   "execution_count": null,
   "metadata": {},
   "outputs": [
    {
     "data": {
      "text/plain": [
       "23"
      ]
     },
     "execution_count": 11,
     "metadata": {},
     "output_type": "execute_result"
    }
   ],
   "source": [
    "# access\n",
    "data1['roll'] # direct access, key name \"roll\" is case sensitive\n",
    "data1.get('Roll') # accessed through function/method, although key does not match, it will not return error\n",
    "data1.get('roll')"
   ]
  },
  {
   "cell_type": "code",
   "execution_count": null,
   "metadata": {},
   "outputs": [
    {
     "data": {
      "text/plain": [
       "{'roll': 13, 'name': 'Sultan Mahmud', 'age': 31}"
      ]
     },
     "execution_count": 12,
     "metadata": {},
     "output_type": "execute_result"
    }
   ],
   "source": [
    "# update\n",
    "data1['roll'] = 13\n",
    "data1"
   ]
  },
  {
   "cell_type": "code",
   "execution_count": null,
   "metadata": {},
   "outputs": [
    {
     "data": {
      "text/plain": [
       "{'roll': 13,\n",
       " 'name': 'Sultan Mahmud',\n",
       " 'age': 31,\n",
       " 'dept': 'EEE',\n",
       " 'sub': ['Math', 'DLD', 'AC Current']}"
      ]
     },
     "execution_count": 15,
     "metadata": {},
     "output_type": "execute_result"
    }
   ],
   "source": [
    "# add\n",
    "data1['dept'] = 'EEE'\n",
    "data1['sub'] = ['Math', 'DLD', 'AC Current'] # comma separated list would provide return as list\n",
    "# key should be unique; for duplicate key, latest one would be considered\n",
    "# key value could be anything; but usually int & str is used, float is usually not used\n",
    "data1"
   ]
  },
  {
   "cell_type": "code",
   "execution_count": 18,
   "metadata": {},
   "outputs": [
    {
     "data": {
      "text/plain": [
       "{'roll': 13,\n",
       " 'name': 'Sultan Mahmud',\n",
       " 'age': 31,\n",
       " 'dept': 'EEE',\n",
       " 1: 2,\n",
       " 2: 4,\n",
       " 3: 9,\n",
       " 12: 144}"
      ]
     },
     "execution_count": 18,
     "metadata": {},
     "output_type": "execute_result"
    }
   ],
   "source": [
    "# methods\n",
    "data2 = {'roll': 13,\n",
    "         'name': 'Sultan Mahmud',\n",
    "         1: 24,\n",
    "         'age': 31,\n",
    "         'dept': 'EEE',\n",
    "         'sub': ['Math', 'DLD', 'AC Current']}\n",
    "data2.values() # will return the values only of the keys\n",
    "data2.keys() # will return the keys only\n",
    "data2.items() # will return keys & values in pair\n",
    "data2.pop(1) # will pop the key \"1\"\n",
    "data2.popitem() # will pop the last key\n",
    "data2.update({1:2, 2:4, 3:9})\n",
    "data2.fromkeys([4, 5, 6], 67)\n",
    "data2.setdefault(12, 144)\n",
    "data2"
   ]
  },
  {
   "attachments": {},
   "cell_type": "markdown",
   "metadata": {},
   "source": [
    "# Shallow Copy & Deep Copy"
   ]
  },
  {
   "cell_type": "code",
   "execution_count": 25,
   "metadata": {},
   "outputs": [],
   "source": [
    "data3 = [1, 2, 3, 4, 5]"
   ]
  },
  {
   "cell_type": "code",
   "execution_count": 26,
   "metadata": {},
   "outputs": [
    {
     "data": {
      "text/plain": [
       "[1, 2, 3, 4, 5, 99]"
      ]
     },
     "execution_count": 26,
     "metadata": {},
     "output_type": "execute_result"
    }
   ],
   "source": [
    "# shallow copy\n",
    "var1 = data3\n",
    "var1.append(99)\n",
    "var1"
   ]
  },
  {
   "cell_type": "code",
   "execution_count": 27,
   "metadata": {},
   "outputs": [
    {
     "data": {
      "text/plain": [
       "[1, 2, 3, 4, 5, 99, 100]"
      ]
     },
     "execution_count": 27,
     "metadata": {},
     "output_type": "execute_result"
    }
   ],
   "source": [
    "# deep copy\n",
    "var2 = data3.copy()\n",
    "var2.append(100)\n",
    "var2"
   ]
  },
  {
   "attachments": {},
   "cell_type": "markdown",
   "metadata": {},
   "source": [
    "# Nested Data Structure"
   ]
  },
  {
   "cell_type": "code",
   "execution_count": 7,
   "metadata": {},
   "outputs": [
    {
     "data": {
      "text/plain": [
       "[True, False]"
      ]
     },
     "execution_count": 7,
     "metadata": {},
     "output_type": "execute_result"
    }
   ],
   "source": [
    "nested_list1 = [[1, 2], ['a', 'b'], [1.4, 2.5], [True, False]]\n",
    "nested_list1[3]"
   ]
  },
  {
   "cell_type": "code",
   "execution_count": 10,
   "metadata": {},
   "outputs": [
    {
     "data": {
      "text/plain": [
       "1.4"
      ]
     },
     "execution_count": 10,
     "metadata": {},
     "output_type": "execute_result"
    }
   ],
   "source": [
    "nested_list1[2][0]"
   ]
  },
  {
   "cell_type": "code",
   "execution_count": 26,
   "metadata": {},
   "outputs": [
    {
     "data": {
      "text/plain": [
       "{'Price1': '40000', 'Price2': '20000'}"
      ]
     },
     "execution_count": 26,
     "metadata": {},
     "output_type": "execute_result"
    }
   ],
   "source": [
    "nested_list2 = [{'name1':'Sultan', 'name2':'Sharmin'}, {'dev1':'iPhone', 'dev2':'Infinix'}, {'OS1':'iOS', 'OS2':'Android'}, {'Price1':'40000','Price2':'20000'}]\n",
    "nested_list2[3]"
   ]
  },
  {
   "cell_type": "code",
   "execution_count": 34,
   "metadata": {},
   "outputs": [
    {
     "name": "stdout",
     "output_type": "stream",
     "text": [
      "{'name1': 'Sultan', 'name2': 'Sharmin'} {'dev1': 'iPhone', 'dev2': 'Infinix'} {'OS1': 'iOS', 'OS2': 'Android'} {'Price1': '40000', 'Price2': '20000'}\n"
     ]
    }
   ],
   "source": [
    "print(*nested_list2)"
   ]
  },
  {
   "cell_type": "code",
   "execution_count": 52,
   "metadata": {},
   "outputs": [
    {
     "name": "stdout",
     "output_type": "stream",
     "text": [
      "{'child': ['Zaif', 'Zayn'], 'MOB': ['Sep', 'Jul']}\n"
     ]
    },
    {
     "data": {
      "text/plain": [
       "'Zaif'"
      ]
     },
     "execution_count": 52,
     "metadata": {},
     "output_type": "execute_result"
    }
   ],
   "source": [
    "nested_dict1 = {'child' : ['Zaif', 'Zayn'], 'MOB' : ['Sep', 'Jul']}\n",
    "type(nested_dict1)\n",
    "#print(**nested_dict1)\n",
    "print(nested_dict1)\n",
    "nested_dict1['child'][0]\n"
   ]
  },
  {
   "cell_type": "code",
   "execution_count": 58,
   "metadata": {},
   "outputs": [
    {
     "name": "stdout",
     "output_type": "stream",
     "text": [
      "<zip object at 0x0000014FC89017C0>\n",
      "[(1, 'a', 1.4, True), (2, 'b', 2.5, False)]\n"
     ]
    }
   ],
   "source": [
    "nested_list1\n",
    "lst_T = zip(*nested_list1)\n",
    "print(lst_T)\n",
    "print(list(lst_T))"
   ]
  },
  {
   "cell_type": "code",
   "execution_count": 67,
   "metadata": {},
   "outputs": [
    {
     "name": "stdout",
     "output_type": "stream",
     "text": [
      "Green\n",
      "20000\n"
     ]
    }
   ],
   "source": [
    "nested_list4 = [{'Android':{'color':'Grey', 'version':12},'iOS':{'color':'Green','version':16.2}}, {'Android':{'amount':20000, 'currency':'BDT'}, 'iOS':{'amount':40000, 'currency':'BDT'}}]\n",
    "print(nested_list4[0]['iOS']['color'])\n",
    "print(nested_list4[1]['Android']['amount'])"
   ]
  }
 ],
 "metadata": {
  "kernelspec": {
   "display_name": "Python 3",
   "language": "python",
   "name": "python3"
  },
  "language_info": {
   "codemirror_mode": {
    "name": "ipython",
    "version": 3
   },
   "file_extension": ".py",
   "mimetype": "text/x-python",
   "name": "python",
   "nbconvert_exporter": "python",
   "pygments_lexer": "ipython3",
   "version": "3.11.0"
  },
  "orig_nbformat": 4,
  "vscode": {
   "interpreter": {
    "hash": "5238573367df39f7286bb46f9ff5f08f63a01a80960060ce41e3c79b190280fa"
   }
  }
 },
 "nbformat": 4,
 "nbformat_minor": 2
}
