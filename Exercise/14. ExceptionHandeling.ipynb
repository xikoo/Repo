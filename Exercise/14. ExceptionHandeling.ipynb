{
 "cells": [
  {
   "attachments": {},
   "cell_type": "markdown",
   "metadata": {},
   "source": [
    "# Exception"
   ]
  },
  {
   "cell_type": "code",
   "execution_count": 2,
   "metadata": {},
   "outputs": [
    {
     "ename": "ZeroDivisionError",
     "evalue": "division by zero",
     "output_type": "error",
     "traceback": [
      "\u001b[1;31m---------------------------------------------------------------------------\u001b[0m",
      "\u001b[1;31mZeroDivisionError\u001b[0m                         Traceback (most recent call last)",
      "Cell \u001b[1;32mIn[2], line 3\u001b[0m\n\u001b[0;32m      1\u001b[0m num \u001b[39m=\u001b[39m \u001b[39mint\u001b[39m(\u001b[39minput\u001b[39m())\n\u001b[0;32m      2\u001b[0m div \u001b[39m=\u001b[39m \u001b[39mint\u001b[39m(\u001b[39minput\u001b[39m())\n\u001b[1;32m----> 3\u001b[0m res \u001b[39m=\u001b[39m num \u001b[39m/\u001b[39;49m div\n\u001b[0;32m      4\u001b[0m \u001b[39mprint\u001b[39m(res)\n",
      "\u001b[1;31mZeroDivisionError\u001b[0m: division by zero"
     ]
    }
   ],
   "source": [
    "num = int(input())\n",
    "div = int(input())\n",
    "res = num / div\n",
    "print(res)"
   ]
  },
  {
   "attachments": {},
   "cell_type": "markdown",
   "metadata": {},
   "source": [
    "# Try Except"
   ]
  },
  {
   "cell_type": "code",
   "execution_count": 3,
   "metadata": {},
   "outputs": [
    {
     "name": "stdout",
     "output_type": "stream",
     "text": [
      "division by zero\n",
      "Finish\n"
     ]
    }
   ],
   "source": [
    "try:\n",
    "    num = int(input())\n",
    "    div = int(input())\n",
    "    res = num / div\n",
    "    print(res)\n",
    "except Exception as e:\n",
    "    print(e)\n",
    "print('Finish')"
   ]
  },
  {
   "cell_type": "code",
   "execution_count": 4,
   "metadata": {},
   "outputs": [
    {
     "name": "stdout",
     "output_type": "stream",
     "text": [
      "division by zero\n",
      "0.0\n",
      "Finish\n"
     ]
    }
   ],
   "source": [
    "try:\n",
    "    num = int(input())\n",
    "    div = int(input())\n",
    "    res = num / div\n",
    "except Exception as e:\n",
    "    print(e)\n",
    "    res = 0.0\n",
    "print(res)\n",
    "print('Finish')"
   ]
  },
  {
   "attachments": {},
   "cell_type": "markdown",
   "metadata": {},
   "source": [
    "# Specific/Multiple Except Block"
   ]
  },
  {
   "cell_type": "code",
   "execution_count": 8,
   "metadata": {},
   "outputs": [
    {
     "name": "stdout",
     "output_type": "stream",
     "text": [
      "invalid literal for int() with base 10: 'h'\n",
      "Error\n",
      "Finish\n"
     ]
    }
   ],
   "source": [
    "try:\n",
    "    num = int(input())\n",
    "    div = int(input())\n",
    "    res = num / div\n",
    "except ZeroDivisionError as e:\n",
    "    print(e)\n",
    "    res = 0.0\n",
    "except ValueError as e:\n",
    "    print(e)\n",
    "    res = \"Error\"\n",
    "print(res)\n",
    "print('Finish')"
   ]
  },
  {
   "attachments": {},
   "cell_type": "markdown",
   "metadata": {},
   "source": [
    "# Else"
   ]
  },
  {
   "cell_type": "code",
   "execution_count": 11,
   "metadata": {},
   "outputs": [
    {
     "name": "stdout",
     "output_type": "stream",
     "text": [
      "No error\n",
      "2.0\n",
      "Finish\n"
     ]
    }
   ],
   "source": [
    "try:\n",
    "    num = int(input())\n",
    "    div = int(input())\n",
    "    res = num / div\n",
    "except ZeroDivisionError as e:\n",
    "    print(e)\n",
    "    res = 0.0\n",
    "except ValueError as e:\n",
    "    print(e)\n",
    "    res = \"Error\"\n",
    "else:\n",
    "    print(\"No error\")\n",
    "print(res)\n",
    "print('Finish')"
   ]
  },
  {
   "attachments": {},
   "cell_type": "markdown",
   "metadata": {},
   "source": [
    "# Finally"
   ]
  },
  {
   "cell_type": "code",
   "execution_count": 12,
   "metadata": {},
   "outputs": [
    {
     "name": "stdout",
     "output_type": "stream",
     "text": [
      "No error\n",
      "1.4\n",
      "Finish\n"
     ]
    }
   ],
   "source": [
    "try:\n",
    "    num = int(input())\n",
    "    div = int(input())\n",
    "    res = num / div\n",
    "except ZeroDivisionError as e:\n",
    "    print(e)\n",
    "    res = 0.0\n",
    "except ValueError as e:\n",
    "    print(e)\n",
    "    res = \"Error\"\n",
    "else:\n",
    "    print(\"No error\")\n",
    "    print(res)\n",
    "finally:\n",
    "    print('Finish')"
   ]
  },
  {
   "attachments": {},
   "cell_type": "markdown",
   "metadata": {},
   "source": [
    "# Custom Exception"
   ]
  },
  {
   "cell_type": "code",
   "execution_count": 16,
   "metadata": {},
   "outputs": [
    {
     "name": "stdout",
     "output_type": "stream",
     "text": [
      "Age requirement does not match\n"
     ]
    }
   ],
   "source": [
    "age = int(input())\n",
    "try:\n",
    "    if age < 18:\n",
    "        raise Exception(\"Age requirement does not match\")\n",
    "except Exception as e:\n",
    "    print(e)"
   ]
  },
  {
   "cell_type": "code",
   "execution_count": 19,
   "metadata": {},
   "outputs": [],
   "source": [
    "class EligibilityError(Exception):\n",
    "    pass"
   ]
  },
  {
   "cell_type": "code",
   "execution_count": 20,
   "metadata": {},
   "outputs": [
    {
     "ename": "EligibilityError",
     "evalue": "Age requirement does not match",
     "output_type": "error",
     "traceback": [
      "\u001b[1;31m---------------------------------------------------------------------------\u001b[0m",
      "\u001b[1;31mEligibilityError\u001b[0m                          Traceback (most recent call last)",
      "Cell \u001b[1;32mIn[20], line 2\u001b[0m\n\u001b[0;32m      1\u001b[0m \u001b[39mif\u001b[39;00m age \u001b[39m<\u001b[39m \u001b[39m18\u001b[39m:\n\u001b[1;32m----> 2\u001b[0m         \u001b[39mraise\u001b[39;00m EligibilityError(\u001b[39m\"\u001b[39m\u001b[39mAge requirement does not match\u001b[39m\u001b[39m\"\u001b[39m)\n",
      "\u001b[1;31mEligibilityError\u001b[0m: Age requirement does not match"
     ]
    }
   ],
   "source": [
    "if age < 18:\n",
    "        raise EligibilityError(\"Age requirement does not match\")"
   ]
  },
  {
   "cell_type": "code",
   "execution_count": 21,
   "metadata": {},
   "outputs": [
    {
     "name": "stdout",
     "output_type": "stream",
     "text": [
      "Age requirement does not match\n"
     ]
    }
   ],
   "source": [
    "class EligibilityError(Exception):\n",
    "    pass\n",
    "age = int(input())\n",
    "try:\n",
    "    if age < 18:\n",
    "        raise EligibilityError(\"Age requirement does not match\")\n",
    "except Exception as e:\n",
    "    print(e)"
   ]
  },
  {
   "cell_type": "code",
   "execution_count": 24,
   "metadata": {},
   "outputs": [
    {
     "ename": "AssertionError",
     "evalue": "Age requirement does not match",
     "output_type": "error",
     "traceback": [
      "\u001b[1;31m---------------------------------------------------------------------------\u001b[0m",
      "\u001b[1;31mAssertionError\u001b[0m                            Traceback (most recent call last)",
      "Cell \u001b[1;32mIn[24], line 2\u001b[0m\n\u001b[0;32m      1\u001b[0m age \u001b[39m=\u001b[39m \u001b[39mint\u001b[39m(\u001b[39minput\u001b[39m())\n\u001b[1;32m----> 2\u001b[0m \u001b[39massert\u001b[39;00m age\u001b[39m>\u001b[39m\u001b[39m17\u001b[39m, \u001b[39m\"\u001b[39m\u001b[39mAge requirement does not match\u001b[39m\u001b[39m\"\u001b[39m\n",
      "\u001b[1;31mAssertionError\u001b[0m: Age requirement does not match"
     ]
    }
   ],
   "source": [
    "age = int(input())\n",
    "assert age>17, \"Age requirement does not match\""
   ]
  }
 ],
 "metadata": {
  "kernelspec": {
   "display_name": "Python 3",
   "language": "python",
   "name": "python3"
  },
  "language_info": {
   "codemirror_mode": {
    "name": "ipython",
    "version": 3
   },
   "file_extension": ".py",
   "mimetype": "text/x-python",
   "name": "python",
   "nbconvert_exporter": "python",
   "pygments_lexer": "ipython3",
   "version": "3.11.0"
  },
  "orig_nbformat": 4,
  "vscode": {
   "interpreter": {
    "hash": "5238573367df39f7286bb46f9ff5f08f63a01a80960060ce41e3c79b190280fa"
   }
  }
 },
 "nbformat": 4,
 "nbformat_minor": 2
}
