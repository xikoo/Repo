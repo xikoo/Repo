{
 "cells": [
  {
   "cell_type": "code",
   "execution_count": 3,
   "metadata": {},
   "outputs": [],
   "source": [
    "import keyword"
   ]
  },
  {
   "cell_type": "code",
   "execution_count": null,
   "metadata": {},
   "outputs": [],
   "source": [
    "keyword.kwlist\n",
    "# we cannot use keywords as variables"
   ]
  },
  {
   "cell_type": "code",
   "execution_count": 6,
   "metadata": {},
   "outputs": [
    {
     "name": "stdout",
     "output_type": "stream",
     "text": [
      "Not eligible for Credit Card\n"
     ]
    }
   ],
   "source": [
    "age = 16\n",
    "\n",
    "if age >= 18:\n",
    "    print('ELigible for Credit Card')\n",
    "else:\n",
    "    print('Not eligible for Credit Card')"
   ]
  },
  {
   "cell_type": "code",
   "execution_count": 10,
   "metadata": {},
   "outputs": [
    {
     "name": "stdout",
     "output_type": "stream",
     "text": [
      "ELigible for Credit Card\n"
     ]
    }
   ],
   "source": [
    "# Nested if else\n",
    "age = 19\n",
    "salary = 45000\n",
    "\n",
    "if age >= 18:\n",
    "    if salary >= 40000:\n",
    "        print('ELigible for Credit Card')\n",
    "    else:\n",
    "        print('Salary is less')\n",
    "else:\n",
    "    print('Not eligible for Credit Card')"
   ]
  },
  {
   "cell_type": "code",
   "execution_count": 14,
   "metadata": {},
   "outputs": [
    {
     "name": "stdout",
     "output_type": "stream",
     "text": [
      "Not eligible for Credit Card\n"
     ]
    }
   ],
   "source": [
    "age = 19\n",
    "salary = 35000\n",
    "\n",
    "if age >= 18 and salary >= 40000:\n",
    "    print('ELigible for Credit Card')\n",
    "else:\n",
    "    print('Not eligible for Credit Card')"
   ]
  },
  {
   "cell_type": "code",
   "execution_count": 17,
   "metadata": {},
   "outputs": [
    {
     "name": "stdout",
     "output_type": "stream",
     "text": [
      "Eligible for Green Card\n"
     ]
    }
   ],
   "source": [
    "age = 16\n",
    "salary = 45000\n",
    "\n",
    "if age >= 18 and salary >= 40000:\n",
    "    print('ELigible for Credit Card')\n",
    "elif age >= 18:\n",
    "    print('Eligible for Debit Card')\n",
    "elif age >= 15:\n",
    "    print('Eligible for Green Card')\n",
    "else:\n",
    "    print('Not eligible for any Card')"
   ]
  },
  {
   "attachments": {},
   "cell_type": "markdown",
   "metadata": {},
   "source": [
    "# Ternary Operation"
   ]
  },
  {
   "cell_type": "code",
   "execution_count": 18,
   "metadata": {},
   "outputs": [],
   "source": [
    "x, y = 4, 5"
   ]
  },
  {
   "cell_type": "code",
   "execution_count": 19,
   "metadata": {},
   "outputs": [
    {
     "name": "stdout",
     "output_type": "stream",
     "text": [
      "5\n"
     ]
    }
   ],
   "source": [
    "largest = 0\n",
    "if x>y:\n",
    "    largest = x\n",
    "else:\n",
    "    largest = y\n",
    "print(largest)\n"
   ]
  },
  {
   "cell_type": "code",
   "execution_count": 20,
   "metadata": {},
   "outputs": [
    {
     "name": "stdout",
     "output_type": "stream",
     "text": [
      "5\n"
     ]
    }
   ],
   "source": [
    "largest = x if x>y else y\n",
    "print(largest)"
   ]
  },
  {
   "cell_type": "code",
   "execution_count": 22,
   "metadata": {},
   "outputs": [
    {
     "name": "stdout",
     "output_type": "stream",
     "text": [
      "9\n"
     ]
    }
   ],
   "source": [
    "x, y, z = 2, 5, 9\n",
    "largest1 = x if (x>y and x>z) else (y if (y>x and y>z) else z)\n",
    "print(largest1)"
   ]
  },
  {
   "cell_type": "code",
   "execution_count": 24,
   "metadata": {},
   "outputs": [
    {
     "name": "stdout",
     "output_type": "stream",
     "text": [
      "8\n"
     ]
    }
   ],
   "source": [
    "w ,x, y, z = 3, 6, 2, 8\n",
    "largest2 = w if (w>x and w>y and w>z) else (y if (y>w and y>x and y>z) else x if(x>w and x>y and x>z) else z)\n",
    "print(largest2)"
   ]
  }
 ],
 "metadata": {
  "kernelspec": {
   "display_name": "Python 3",
   "language": "python",
   "name": "python3"
  },
  "language_info": {
   "codemirror_mode": {
    "name": "ipython",
    "version": 3
   },
   "file_extension": ".py",
   "mimetype": "text/x-python",
   "name": "python",
   "nbconvert_exporter": "python",
   "pygments_lexer": "ipython3",
   "version": "3.11.0 (main, Oct 24 2022, 18:26:48) [MSC v.1933 64 bit (AMD64)]"
  },
  "orig_nbformat": 4,
  "vscode": {
   "interpreter": {
    "hash": "5238573367df39f7286bb46f9ff5f08f63a01a80960060ce41e3c79b190280fa"
   }
  }
 },
 "nbformat": 4,
 "nbformat_minor": 2
}
